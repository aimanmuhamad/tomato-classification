{
 "cells": [
  {
   "cell_type": "code",
   "execution_count": 1,
   "id": "2f16c1aa",
   "metadata": {},
   "outputs": [
    {
     "name": "stderr",
     "output_type": "stream",
     "text": [
      "C:\\Users\\AIMAN\\anaconda3\\lib\\site-packages\\scipy\\__init__.py:146: UserWarning: A NumPy version >=1.16.5 and <1.23.0 is required for this version of SciPy (detected version 1.23.1\n",
      "  warnings.warn(f\"A NumPy version >={np_minversion} and <{np_maxversion}\"\n"
     ]
    }
   ],
   "source": [
    "import numpy as np\n",
    "import pandas as pd\n",
    "from sklearn.neural_network import MLPClassifier\n",
    "from sklearn.model_selection import train_test_split\n",
    "from FS.fa import jfs   # change this to switch algorithm \n",
    "import matplotlib.pyplot as plt"
   ]
  },
  {
   "cell_type": "code",
   "execution_count": 2,
   "id": "65bf8f70",
   "metadata": {},
   "outputs": [],
   "source": [
    "# load data\n",
    "data  = pd.read_excel('tomato_dataset.xlsx') \n",
    "# data  = pd.read_csv('ionosphere.csv')\n",
    "data.drop('Unnamed: 0', inplace=True, axis=1)\n",
    "data  = data.values\n",
    "feat  = np.asarray(data[:, 0:-1])\n",
    "label = np.asarray(data[:, -1])"
   ]
  },
  {
   "cell_type": "code",
   "execution_count": 3,
   "id": "305a7cfc",
   "metadata": {},
   "outputs": [],
   "source": [
    "# split data into train & validation (70 -- 30)\n",
    "xtrain, xtest, ytrain, ytest = train_test_split(feat, label, test_size=0.3, stratify=label)\n",
    "fold = {'xt':xtrain, 'yt':ytrain, 'xv':xtest, 'yv':ytest}\n",
    "\n",
    "# parameter\n",
    "k    = 2     # k-value in KNN\n",
    "N    = 10    # number of particles\n",
    "T    = 20   # maximum number of iterations\n",
    "opts = {'k':k, 'fold':fold, 'N':N, 'T':T}"
   ]
  },
  {
   "cell_type": "code",
   "execution_count": null,
   "id": "78ac4140",
   "metadata": {},
   "outputs": [
    {
     "name": "stdout",
     "output_type": "stream",
     "text": [
      "Generation: 1\n",
      "Best (FA): 0.36032863849765256\n",
      "Generation: 2\n",
      "Best (FA): 0.36032863849765256\n",
      "Generation: 3\n",
      "Best (FA): 0.36032863849765256\n",
      "Generation: 4\n",
      "Best (FA): 0.36032863849765256\n"
     ]
    }
   ],
   "source": [
    "# perform feature selection\n",
    "fmdl = jfs(feat, label, opts)\n",
    "sf   = fmdl['sf']\n",
    "print(sf)\n",
    "\n",
    "# model with selected features\n",
    "num_train = np.size(xtrain, 0)\n",
    "num_valid = np.size(xtest, 0)\n",
    "x_train   = xtrain[:, sf]\n",
    "y_train   = ytrain.reshape(num_train)  # Solve bug\n",
    "x_valid   = xtest[:, sf]\n",
    "y_valid   = ytest.reshape(num_valid)  # Solve bug"
   ]
  },
  {
   "cell_type": "code",
   "execution_count": null,
   "id": "d00c9f57",
   "metadata": {},
   "outputs": [],
   "source": [
    "# mdl       = KNeighborsClassifier(n_neighbors = k) \n",
    "mdl = MLPClassifier(solver='adam', alpha=1e-5, hidden_layer_sizes=(200,150,100), max_iter = 200, activation = 'relu')\n",
    "mdl.fit(x_train, y_train)\n",
    "\n",
    "# accuracy\n",
    "y_pred    = mdl.predict(x_valid)\n",
    "Acc       = np.sum(y_valid == y_pred)  / num_valid\n",
    "print(\"Accuracy:\", 100 * Acc)"
   ]
  },
  {
   "cell_type": "code",
   "execution_count": null,
   "id": "031f7615",
   "metadata": {},
   "outputs": [],
   "source": [
    "# number of selected features\n",
    "num_feat = fmdl['nf']\n",
    "print(\"Feature Size:\", num_feat)"
   ]
  },
  {
   "cell_type": "code",
   "execution_count": null,
   "id": "78b811be",
   "metadata": {},
   "outputs": [],
   "source": []
  }
 ],
 "metadata": {
  "kernelspec": {
   "display_name": "Python 3",
   "language": "python",
   "name": "python3"
  },
  "language_info": {
   "codemirror_mode": {
    "name": "ipython",
    "version": 3
   },
   "file_extension": ".py",
   "mimetype": "text/x-python",
   "name": "python",
   "nbconvert_exporter": "python",
   "pygments_lexer": "ipython3",
   "version": "3.9.7"
  }
 },
 "nbformat": 4,
 "nbformat_minor": 5
}
